{
 "cells": [
  {
   "cell_type": "code",
   "execution_count": 48,
   "metadata": {},
   "outputs": [
    {
     "name": "stdout",
     "output_type": "stream",
     "text": [
      "Note: you may need to restart the kernel to use updated packages.\n"
     ]
    }
   ],
   "source": [
    "%pip install opencv-python numpy matplotlib tqdm -q"
   ]
  },
  {
   "cell_type": "markdown",
   "metadata": {},
   "source": [
    "# Imports and main logic"
   ]
  },
  {
   "cell_type": "code",
   "execution_count": 1,
   "metadata": {},
   "outputs": [],
   "source": [
    "import cv2\n",
    "import numpy as np\n",
    "import matplotlib.pyplot as plt \n",
    "import os\n",
    "from tqdm import tqdm\n",
    "from datetime import datetime "
   ]
  },
  {
   "cell_type": "code",
   "execution_count": 4,
   "metadata": {},
   "outputs": [],
   "source": [
    "class LightningDetector:\n",
    "    def __init__(self):\n",
    "        self.today = datetime.now().strftime(\"%Y%m%d\")\n",
    "\n",
    "    def find_brightness_values(self, video_path):\n",
    "        cap = cv2.VideoCapture(video_path)\n",
    "        \n",
    "        if not cap.isOpened():\n",
    "            print(\"Error: Could not open video.\")\n",
    "            return []\n",
    "\n",
    "        frame_brightness_values = []\n",
    "\n",
    "        while True:\n",
    "            ret, frame = cap.read()\n",
    "            if not ret:\n",
    "                break\n",
    "            gray_frame = cv2.cvtColor(frame, cv2.COLOR_BGR2GRAY)\n",
    "            current_frame_brightness = np.mean(gray_frame)\n",
    "            frame_brightness_values.append(current_frame_brightness)\n",
    "        \n",
    "        return frame_brightness_values\n",
    "    \n",
    "    def calculate_brightness_threshold(self, frame_brightness_values):\n",
    "        mean_brightness = np.mean(frame_brightness_values)\n",
    "        std_brightness = np.std(frame_brightness_values)\n",
    "        \n",
    "        upper_limit = mean_brightness + 3 * std_brightness\n",
    "        filtered_brightness = [b for b in frame_brightness_values if b <= upper_limit]\n",
    "        \n",
    "        filtered_mean = np.mean(filtered_brightness)\n",
    "        filtered_std = np.std(filtered_brightness)\n",
    "        \n",
    "        threshold = filtered_mean + 1.5 * filtered_std\n",
    "        return threshold, filtered_std\n",
    "    \n",
    "    def detect_lightning_flashes(self, frame_brightness_values, frame_rate=30):\n",
    "        threshold, filtered_std = self.calculate_brightness_threshold(frame_brightness_values)\n",
    "        flash_timestamps = []\n",
    "        previous_brightness = None\n",
    "        for i, current_frame_brightness in enumerate(frame_brightness_values):\n",
    "            if previous_brightness is not None:\n",
    "                brightness_increase = current_frame_brightness - previous_brightness\n",
    "                if brightness_increase > 2 * filtered_std and current_frame_brightness > threshold:\n",
    "                    timestamp = i / frame_rate\n",
    "                    flash_timestamps.append(timestamp)\n",
    "\n",
    "            previous_brightness = current_frame_brightness\n",
    "        return flash_timestamps\n",
    "\n",
    "    def cut_video_clips(self, video_path, flash_timestamps):\n",
    "        cap = cv2.VideoCapture(video_path)\n",
    "        if not cap.isOpened():\n",
    "            print(\"Error: Could not open video.\")\n",
    "            return\n",
    "\n",
    "        frame_rate = cap.get(cv2.CAP_PROP_FPS)\n",
    "        width = int(cap.get(cv2.CAP_PROP_FRAME_WIDTH))\n",
    "        height = int(cap.get(cv2.CAP_PROP_FRAME_HEIGHT))\n",
    "\n",
    "        clips_folder = f\"./clips/{self.today}\"\n",
    "        os.makedirs(clips_folder, exist_ok=True)\n",
    "\n",
    "        output_filename = os.path.join(clips_folder, f\"clips_{os.path.basename(video_path)}\")\n",
    "        fourcc = cv2.VideoWriter_fourcc(*'mp4v')\n",
    "        out = cv2.VideoWriter(output_filename, fourcc, frame_rate, (width, height))\n",
    "\n",
    "        clip_timestamps = []\n",
    "        i = 0\n",
    "        while i < len(flash_timestamps):\n",
    "            start_timestamp = max(0, flash_timestamps[i] - 3)\n",
    "            end_timestamp = flash_timestamps[i] + 3\n",
    "\n",
    "            while i + 1 < len(flash_timestamps) and flash_timestamps[i + 1] - 3 <= end_timestamp:\n",
    "                end_timestamp = flash_timestamps[i + 1] + 3\n",
    "                i += 1\n",
    "\n",
    "            clip_timestamps.append((start_timestamp, end_timestamp))\n",
    "            i += 1\n",
    "\n",
    "        for start_timestamp, end_timestamp in clip_timestamps:\n",
    "            start_frame = int(start_timestamp * frame_rate)\n",
    "            end_frame = int(end_timestamp * frame_rate)\n",
    "\n",
    "            cap.set(cv2.CAP_PROP_POS_FRAMES, start_frame)\n",
    "\n",
    "            for _ in range(end_frame - start_frame):\n",
    "                ret, frame = cap.read()\n",
    "                if not ret:\n",
    "                    break\n",
    "                out.write(frame)\n",
    "\n",
    "        out.release()\n",
    "        cap.release()\n",
    "\n",
    "    def plot_brightness_over_time(self, frame_brightness, threshold, frame_rate=30):\n",
    "        time_stamps = [i / frame_rate for i in range(len(frame_brightness))]\n",
    "        plt.figure(figsize=(12, 6))\n",
    "        plt.plot(time_stamps, frame_brightness, label='Frame Brightness', color='blue')\n",
    "        if threshold > 0:\n",
    "            plt.axhline(y=threshold, color='red', linestyle='--', label='Dynamic Brightness Threshold')\n",
    "        plt.title('Frame Brightness Over Time')\n",
    "        plt.xlabel('Time (seconds)')\n",
    "        plt.ylabel('Brightness')\n",
    "        plt.legend()\n",
    "        plt.grid()\n",
    "        plt.show()\n",
    "\n",
    "    def merge_combined_videos(self, folder_path):\n",
    "        combined_videos = [f for f in os.listdir(folder_path) if f.startswith('combined_') and f.endswith('.mp4')]\n",
    "\n",
    "        if combined_videos:\n",
    "            merged_folder = os.path.join(f\"./clips/{self.today}\", \"merged\")\n",
    "            os.makedirs(merged_folder, exist_ok=True)\n",
    "            \n",
    "            output_path = os.path.join(merged_folder, 'final_clips.mp4')\n",
    "            \n",
    "            first_video = cv2.VideoCapture(os.path.join(folder_path, combined_videos[0]))\n",
    "            fps = first_video.get(cv2.CAP_PROP_FPS)\n",
    "            width = int(first_video.get(cv2.CAP_PROP_FRAME_WIDTH))\n",
    "            height = int(first_video.get(cv2.CAP_PROP_FRAME_HEIGHT))\n",
    "            first_video.release()\n",
    "\n",
    "            fourcc = cv2.VideoWriter_fourcc(*'mp4v')\n",
    "            out = cv2.VideoWriter(output_path, fourcc, fps, (width, height))\n",
    "\n",
    "            for video in combined_videos:\n",
    "                cap = cv2.VideoCapture(os.path.join(folder_path, video))\n",
    "                while True:\n",
    "                    ret, frame = cap.read()\n",
    "                    if not ret:\n",
    "                        break\n",
    "                    out.write(frame)\n",
    "                cap.release()\n",
    "\n",
    "            out.release()\n",
    "            print(f\"All clips have been merged into: {output_path}\")\n",
    "        else:\n",
    "            print(\"No clips found to merge.\")\n",
    "        \n",
    "    def process_videos(self, folder_path):\n",
    "        video_paths = [os.path.join(folder_path, f) for f in os.listdir(folder_path) if f.endswith('.mp4')]\n",
    "        \n",
    "        for video_path in tqdm(video_paths, desc=\"Processing videos\"):\n",
    "            frame_brightness = self.find_brightness_values(video_path)\n",
    "            \n",
    "            if not frame_brightness:\n",
    "                print(f\"Skipping {video_path} due to error in reading video.\")\n",
    "                continue\n",
    "            \n",
    "            threshold, _ = self.calculate_brightness_threshold(frame_brightness)\n",
    "            \n",
    "            self.plot_brightness_over_time(frame_brightness, threshold)\n",
    "            \n",
    "            flash_timestamps = self.detect_lightning_flashes(frame_brightness)\n",
    "            \n",
    "            if flash_timestamps:\n",
    "                self.cut_video_clips(video_path, flash_timestamps)\n",
    "            else:\n",
    "                print(f\"No lightning flashes detected in {video_path}\")\n",
    "\n",
    "        self.merge_combined_videos(f\"./clips/{self.today}\")\n"
   ]
  },
  {
   "cell_type": "markdown",
   "metadata": {},
   "source": [
    "# Example usage"
   ]
  },
  {
   "cell_type": "code",
   "execution_count": 5,
   "metadata": {},
   "outputs": [
    {
     "name": "stderr",
     "output_type": "stream",
     "text": [
      "Processing videos:   0%|          | 0/1 [00:00<?, ?it/s]"
     ]
    },
    {
     "data": {
      "image/png": "[encoded data removed]",
      "text/plain": [
       "<Figure size 1200x600 with 1 Axes>"
      ]
     },
     "metadata": {},
     "output_type": "display_data"
    },
    {
     "name": "stderr",
     "output_type": "stream",
     "text": [
      "Processing videos: 100%|██████████| 1/1 [01:02<00:00, 62.05s/it]\n"
     ]
    },
    {
     "name": "stdout",
     "output_type": "stream",
     "text": [
      "All clips have been merged into: ./clips/20241012\\merged\\final_clips.mp4\n"
     ]
    }
   ],
   "source": [
    "folder_path = r'C:\\Users\\user\\Pictures\\photos\\test'\n",
    "detector = LightningDetector()\n",
    "detector.process_videos(folder_path)"
   ]
  },
  {
   "cell_type": "code",
   "execution_count": 8,
   "metadata": {},
   "outputs": [
    {
     "name": "stdout",
     "output_type": "stream",
     "text": [
      "All combined videos have been merged into: ./final_combined_video.mp4\n"
     ]
    }
   ],
   "source": []
  }
 ],
 "metadata": {
  "kernelspec": {
   "display_name": "Python 3",
   "language": "python",
   "name": "python3"
  },
  "language_info": {
   "codemirror_mode": {
    "name": "ipython",
    "version": 3
   },
   "file_extension": ".py",
   "mimetype": "text/x-python",
   "name": "python",
   "nbconvert_exporter": "python",
   "pygments_lexer": "ipython3",
   "version": "3.12.6"
  }
 },
 "nbformat": 4,
 "nbformat_minor": 2
}
